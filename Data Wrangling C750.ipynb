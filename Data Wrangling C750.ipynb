{
 "cells": [
  {
   "cell_type": "markdown",
   "id": "17149eaf",
   "metadata": {},
   "source": [
    "# Wrangling OpenStreetMap Data"
   ]
  },
  {
   "cell_type": "markdown",
   "id": "06a0610c",
   "metadata": {},
   "source": [
    "## Chicago, IL, United States\n",
    "\n",
    "<img src=\"MyChicago.jpg\" align='left' width=\"90%\"/>\n",
    "\n",
    "<br clear=\"all\" />\n",
    "\n",
    "\n",
    "\"**The Windy City**,\" \"**Second City**,\" \"**City of Big Shoulders**\" are some of the monikers describing Chicago.  It is the largest American city in the midwest and home to **2.7 million** people as of the **2020 census**. It has been my home for more than 20 years, and I love living in this city.  Chicago has a lot to offer, from theaters, bars, popular sports team, restaurants, outdoor activities, and many more. In addition, it is on the southwest corner of **Lake Michigan**, which makes living in this city more fun than many other cities in America, especially during summertime.\n",
    "\n",
    "### Content:\n",
    "This project is an exploratory data analysis as part of the **Udacity Data Analyst Nanodegree** through **Western Governors University**. I will be using the XML dataset for Chicago that I have extracted from OpenStreetMap https://www.openstreetmap.org/relation/122604. OpenStreetMap is a collaborative project attempting to create geographic map of the world. \n",
    "\n",
    "I am using **Jupyter Notebook** and writing the codes in **Python**. This project calls for this dataset to be audited, cleaned, convert to **CSV** and uploaded to a database(SQL).  Once uploaded in a database, I will write SQL statements to explore the dataset and discover some fun facts about Chicago. "
   ]
  },
  {
   "cell_type": "code",
   "execution_count": 1,
   "id": "c31a3c66",
   "metadata": {},
   "outputs": [],
   "source": [
    "# OSM Chicago XML file extract\n",
    "\n",
    "import xml.etree.ElementTree as ET\n",
    "import pprint\n",
    "from collections import defaultdict\n",
    "import codecs\n",
    "import csv\n",
    "import cerberus\n",
    "import re\n",
    "import sqlite3\n",
    "import schema\n",
    "\n",
    "OSM_FILE = \"chicago.osm\""
   ]
  },
  {
   "cell_type": "markdown",
   "id": "6c770147",
   "metadata": {},
   "source": [
    "**Count of nodes and ways**"
   ]
  },
  {
   "cell_type": "code",
   "execution_count": 2,
   "id": "a2ce6788",
   "metadata": {},
   "outputs": [
    {
     "data": {
      "text/plain": [
       "{'note': 1,\n",
       " 'meta': 1,\n",
       " 'bounds': 1,\n",
       " 'tag': 357231,\n",
       " 'node': 338481,\n",
       " 'nd': 446712,\n",
       " 'way': 56061,\n",
       " 'member': 123260,\n",
       " 'relation': 1974,\n",
       " 'osm': 1}"
      ]
     },
     "execution_count": 2,
     "metadata": {},
     "output_type": "execute_result"
    }
   ],
   "source": [
    "def count_tags(filename):\n",
    "    \"\"\"Count top level tags\"\"\"\n",
    "    tag_count = {}\n",
    "    osm_file = open(filename, \"r\", encoding=\"utf8\")\n",
    "    for each, elem in ET.iterparse(OSM_FILE):\n",
    "        if elem.tag in tag_count:\n",
    "            tag_count[elem.tag] += 1\n",
    "        else:\n",
    "            tag_count[elem.tag] = 1\n",
    "    return tag_count\n",
    "\n",
    "sample_tags = count_tags(OSM_FILE)\n",
    "sample_tags"
   ]
  },
  {
   "cell_type": "markdown",
   "id": "4e69a106",
   "metadata": {},
   "source": [
    "### Dataset Issues\n",
    "\n",
    "\n",
    "**1.** After my initial analysis, I saw a couple of problems with the street types audit.  One had Sangamon showing as a street type, which is incorrect.  Sangamon is a street name in Chicago.  I cleaned this issue by adding the correct street type suffix for it. </br> </br>\n",
    "I also found a couple of street with an abbreviated version of Avenue to Ave.  I updated them to show the full spelling instead. </br> </br>\n",
    "Other than this, there was not much issue found from the Chicago Open Street Map data."
   ]
  },
  {
   "cell_type": "markdown",
   "id": "3ce4b7c0",
   "metadata": {},
   "source": [
    "**Street Types Audit**"
   ]
  },
  {
   "cell_type": "code",
   "execution_count": 5,
   "id": "993e6b8b",
   "metadata": {},
   "outputs": [],
   "source": [
    "expected = [\"Street\", \"Avenue\", \"Boulevard\", \"Drive\", \"Court\", \"Place\", \"Square\", \"Lane\", \"Road\", \"Park\", \"Access\", \"Market\", \n",
    "            \"Trail\", \"Parkway\", \"Commons\", \"Way\", \"Circle\", \"Trace\", \"Plaza\", \"Terrace\", \"Walk\", \"Riverwalk\", \"voltage=138000\",\n",
    "           \"West\", \"South\"]\n",
    "\n",
    "\n",
    "def audit_street_type(street_types, street_name):\n",
    "    \"\"\"Check street type in data against expected types\"\"\"\n",
    "    m = street_type_re.search(street_name)\n",
    "    if m:\n",
    "        street_type = m.group()\n",
    "        if street_type not in expected:\n",
    "            street_types[street_type].add(street_name)\n",
    "\n",
    "            \n",
    "def audit_street(osmfile):\n",
    "    OSM_FILE = open(osmfile, \"r\", encoding=\"utf8\")\n",
    "    street_types = defaultdict(set)\n",
    "    for event, elem in ET.iterparse(OSM_FILE, events=(\"start\",)):\n",
    "\n",
    "        if elem.tag == \"node\" or elem.tag == \"way\":\n",
    "            for tag in elem.iter(\"tag\"):\n",
    "                if is_street_name(tag):\n",
    "                    audit_street_type(street_types, tag.attrib['v'])\n",
    "    OSM_FILE.close()\n",
    "    return street_types          \n"
   ]
  },
  {
   "cell_type": "code",
   "execution_count": 6,
   "id": "715e7c8d",
   "metadata": {},
   "outputs": [
    {
     "name": "stdout",
     "output_type": "stream",
     "text": [
      "{'Ave': {'S Wentworth Ave', 'S Michigan Ave'}, 'Sangamon': {'North Sangamon'}}\n"
     ]
    }
   ],
   "source": [
    "st_types = audit_street(OSM_FILE)\n",
    "pprint.pprint(dict(st_types))"
   ]
  },
  {
   "cell_type": "code",
   "execution_count": 7,
   "id": "bcd6f6b2",
   "metadata": {},
   "outputs": [],
   "source": [
    "mapping = { \"Ave\": \"Avenue\",\n",
    "            \"Sangamon\": \"Sangamon Street\",\n",
    "           }\n",
    "           \n",
    "def update_type(name, mapping):\n",
    "    \"\"\"Replace abbreviated street type with full version using mapping\"\"\"\n",
    "    name = name\n",
    "    split_name = name.split(' ')\n",
    "    \n",
    "    for i in split_name:\n",
    "        if i in mapping.keys():\n",
    "            name = name.replace(i,mapping[i])\n",
    "\n",
    "    return name\n",
    "\n",
    "def change_name(st_types):\n",
    "    \"\"\"iterate through street types and use helper function update_name to update data\"\"\"\n",
    "    for st_type, ways in st_types.items():\n",
    "            for name in ways:\n",
    "                better_name = update_type(name, mapping)\n",
    "                print(name, \"=>\", better_name)"
   ]
  },
  {
   "cell_type": "markdown",
   "id": "81bfbc46",
   "metadata": {},
   "source": [
    "**Street Type Fix**"
   ]
  },
  {
   "cell_type": "code",
   "execution_count": 8,
   "id": "5a3f9534",
   "metadata": {},
   "outputs": [
    {
     "name": "stdout",
     "output_type": "stream",
     "text": [
      "North Sangamon => North Sangamon Street\n",
      "S Wentworth Ave => S Wentworth Avenue\n",
      "S Michigan Ave => S Michigan Avenue\n"
     ]
    }
   ],
   "source": [
    "change_name(st_types)"
   ]
  },
  {
   "cell_type": "markdown",
   "id": "945ed5a0",
   "metadata": {},
   "source": [
    "**2.** The second issue that I found from the phone number audit was a phone number showing a forward slash \"/\" instead of a dash \"-\".  It was corrected by changinf the  \" / \" to \" - \"."
   ]
  },
  {
   "cell_type": "markdown",
   "id": "5f65ac49",
   "metadata": {},
   "source": [
    "**Phone Numbers Audit**"
   ]
  },
  {
   "cell_type": "code",
   "execution_count": 9,
   "id": "03aba15e",
   "metadata": {},
   "outputs": [],
   "source": [
    "phone_re = re.compile(r'\\+1[\\s-]\\d{3}[\\s-]\\d{3}[\\s-]\\d{4}$')\n",
    "\n",
    "def is_phone_number(elem):\n",
    "    return (elem.tag == \"tag\") and (elem.attrib['k'] == \"contact:phone\")\n",
    "\n",
    "def find_phone_numbers(phone_number):\n",
    "    \"\"\"Find phone numbers that need fixing\"\"\"\n",
    "    m = phone_re.search(phone_number)\n",
    "    if not m:\n",
    "        return phone_number\n",
    "\n",
    "\n",
    "def audit_phone(file_name):\n",
    "    with open(file_name, \"r\") as osm_file:\n",
    "        num_list = []\n",
    "        for event, elem in ET.iterparse(OSM_FILE):\n",
    "            if is_phone_number(elem):\n",
    "                contact_num = find_phone_numbers(elem.attrib['v'])\n",
    "                if contact_num != None:\n",
    "                    num_list.append(contact_num)\n",
    "        return num_list"
   ]
  },
  {
   "cell_type": "code",
   "execution_count": 11,
   "id": "20e187e8",
   "metadata": {},
   "outputs": [
    {
     "data": {
      "text/plain": [
       "['(800) 680-2068', '+1/312-861-1037']"
      ]
     },
     "execution_count": 11,
     "metadata": {},
     "output_type": "execute_result"
    }
   ],
   "source": [
    "num_list = audit_phone(OSM_FILE)\n",
    "\n",
    "num_list"
   ]
  },
  {
   "cell_type": "markdown",
   "id": "c52eaaca",
   "metadata": {},
   "source": [
    "**Phone Number Fix**"
   ]
  },
  {
   "cell_type": "code",
   "execution_count": 12,
   "id": "271265f7",
   "metadata": {},
   "outputs": [
    {
     "name": "stdout",
     "output_type": "stream",
     "text": [
      "(800) 680-2068 => (800) 680-2068\n",
      "+1/312-861-1037 => +1-312-861-1037\n"
     ]
    }
   ],
   "source": [
    "# change forward slash to dashes\n",
    "def update_number(num):\n",
    "    new_num = num.replace(\"/\",\"-\",3)\n",
    "    return new_num\n",
    "\n",
    "def change_numbers(num_list):\n",
    "    for num in num_list:\n",
    "        print(num, \"=>\", update_number(num))\n",
    "        \n",
    "change_numbers(num_list)"
   ]
  },
  {
   "cell_type": "markdown",
   "id": "cf390cef",
   "metadata": {},
   "source": [
    "**3.**  The other two audits, **Postal Codes** and \"**K**\" attribute formatting scheme, did not show any issues.  Postal codes audit return with {'il':1} and was corrected to {'il':il}.  \"**K**\" attribute formatting scheme audit did not show any problemchars."
   ]
  },
  {
   "cell_type": "markdown",
   "id": "2a69c5c9",
   "metadata": {},
   "source": [
    "### Chicago OSM CSV Database Load\n",
    "\n",
    "Loaded nodes.csv, nodes.csv, ways.csv, ways_nodes.csv, ways_tags.csv to SQLITE and it created database \"chicago.db\".   "
   ]
  },
  {
   "cell_type": "code",
   "execution_count": 6,
   "id": "e4a9fd77",
   "metadata": {},
   "outputs": [
    {
     "name": "stdout",
     "output_type": "stream",
     "text": [
      "[(56061,)]\n",
      "\n"
     ]
    }
   ],
   "source": [
    "import sqlite3\n",
    "import pprint\n",
    "\n",
    "chicago_map = 'chicago.db'\n",
    "\n",
    "conn = sqlite3.connect(chicago_map)\n",
    "\n",
    "cur = conn.cursor()\n",
    "\n",
    "cur.execute(\"select count(*) as count from ways;\")\n",
    "rows = cur.fetchall()\n",
    "#rows = c.fetchone()\n",
    "\n",
    "print(rows)\n",
    "\n",
    "print\n",
    "for row in rows:\n",
    "  print()\n",
    "\n",
    "#conn.close"
   ]
  },
  {
   "cell_type": "markdown",
   "id": "0b129caf",
   "metadata": {},
   "source": [
    "### Dataset Statistics \n",
    "\n",
    "```\n",
    "chicago.osm ............. 92 MB \n",
    "chicago.db .............. 48 MB\n",
    "nodes.csv  .............. 29 MB\n",
    "nodes_tags.csv ..........  2 MB \n",
    "ways.csv ................  3 MB\n",
    "ways_nodes.csv .......... 10 MB\n",
    "ways_tags.csv ...........  9 MB\n",
    "```"
   ]
  },
  {
   "cell_type": "markdown",
   "id": "1a6fdcee",
   "metadata": {},
   "source": [
    "### Number of unique users"
   ]
  },
  {
   "cell_type": "code",
   "execution_count": 8,
   "id": "f53f2542",
   "metadata": {},
   "outputs": [
    {
     "name": "stdout",
     "output_type": "stream",
     "text": [
      "[(930,)]\n"
     ]
    }
   ],
   "source": [
    "# Number of unique users\n",
    "\n",
    "query = \"SELECT COUNT(DISTINCT(u.uid))FROM (SELECT uid FROM Nodes UNION ALL SELECT uid FROM Ways) as u;\"\n",
    "cur.execute(query)\n",
    "rows=cur.fetchall()\n",
    "\n",
    "pprint.pprint(rows)"
   ]
  },
  {
   "cell_type": "markdown",
   "id": "82e8a913",
   "metadata": {},
   "source": [
    "### Number of Nodes"
   ]
  },
  {
   "cell_type": "code",
   "execution_count": 7,
   "id": "211e82cf",
   "metadata": {},
   "outputs": [
    {
     "name": "stdout",
     "output_type": "stream",
     "text": [
      "[(338481,)]\n"
     ]
    }
   ],
   "source": [
    "# Number of nodes\n",
    "\n",
    "query = \"SELECT count(DISTINCT(id)) FROM nodes;\"\n",
    "cur.execute(query)\n",
    "rows=cur.fetchall()\n",
    "\n",
    "pprint.pprint(rows)"
   ]
  },
  {
   "cell_type": "markdown",
   "id": "7e4ffbc4",
   "metadata": {},
   "source": [
    "### Number of ways"
   ]
  },
  {
   "cell_type": "code",
   "execution_count": 9,
   "id": "4ce113af",
   "metadata": {},
   "outputs": [
    {
     "name": "stdout",
     "output_type": "stream",
     "text": [
      "[(56061,)]\n"
     ]
    }
   ],
   "source": [
    "# Number of ways\n",
    "\n",
    "query = \"SELECT count(DISTINCT(id)) FROM ways;\"\n",
    "cur.execute(query)\n",
    "rows=cur.fetchall()\n",
    "\n",
    "pprint.pprint(rows)"
   ]
  },
  {
   "cell_type": "markdown",
   "id": "16b67095",
   "metadata": {},
   "source": [
    "**Number of Chosen Type of Nodes**"
   ]
  },
  {
   "cell_type": "code",
   "execution_count": 24,
   "id": "5e3339e7",
   "metadata": {},
   "outputs": [
    {
     "name": "stdout",
     "output_type": "stream",
     "text": [
      "[('regular', 51534),\n",
      " ('addr', 9487),\n",
      " ('network', 2550),\n",
      " ('brand', 1734),\n",
      " ('seamark', 793),\n",
      " ('gnis', 563),\n",
      " ('operator', 491),\n",
      " ('payment', 260),\n",
      " ('name', 239),\n",
      " ('flag', 170)]\n"
     ]
    }
   ],
   "source": [
    "# number of chosen type of nodes\n",
    "\n",
    "query = \"SELECT type , count(*) as num  FROM nodes_tags group by type order by num desc LIMIT 10;\"\n",
    "cur.execute(query)\n",
    "rows=cur.fetchall()\n",
    "\n",
    "pprint.pprint(rows)"
   ]
  },
  {
   "cell_type": "markdown",
   "id": "6d8f33b1",
   "metadata": {},
   "source": [
    "**Number of Cafes establishments** "
   ]
  },
  {
   "cell_type": "code",
   "execution_count": 11,
   "id": "905f86e5",
   "metadata": {},
   "outputs": [
    {
     "name": "stdout",
     "output_type": "stream",
     "text": [
      "[('cafe', 470)]\n"
     ]
    }
   ],
   "source": [
    "# number of chosen type of nodes \"cafe\"\n",
    "\n",
    "query = \"SELECT value, count(*) FROM (select key,value from nodes_tags UNION ALL select key,value from ways_tags)  where value like '%cafe%';\"\n",
    "cur.execute(query)\n",
    "rows=cur.fetchall()\n",
    "\n",
    "pprint.pprint(rows)\n"
   ]
  },
  {
   "cell_type": "markdown",
   "id": "0c5f90a9",
   "metadata": {},
   "source": [
    "**Top 10 Contributing Users**"
   ]
  },
  {
   "cell_type": "code",
   "execution_count": 12,
   "id": "cb7c5094",
   "metadata": {},
   "outputs": [
    {
     "name": "stdout",
     "output_type": "stream",
     "text": [
      "Top 10 contributing users and their contribution:\n",
      "\n",
      "[('chicago-buildings', 176966),\n",
      " ('nickvet419', 78415),\n",
      " ('Umbugbene', 18502),\n",
      " ('Zol87', 15053),\n",
      " ('jimjoe45', 13523),\n",
      " ('lectrician1', 6201),\n",
      " ('Chicago Park District GIS', 6176),\n",
      " ('Arcureil', 6006),\n",
      " ('NE2', 5309),\n",
      " ('Steven Vance', 5281)]\n"
     ]
    }
   ],
   "source": [
    "#Top 10 contributing users\n",
    "\n",
    "query = \"select u.user, count(*) as num from (select user from nodes UNION ALL select user from ways) as u group by user order by num desc limit 10;\"\n",
    "cur.execute(query)\n",
    "rows=cur.fetchall()\n",
    "print('Top 10 contributing users and their contribution:\\n')\n",
    "pprint.pprint(rows)"
   ]
  },
  {
   "cell_type": "markdown",
   "id": "d7fc5572",
   "metadata": {},
   "source": [
    "**Top 10 types of Cuisines**"
   ]
  },
  {
   "cell_type": "code",
   "execution_count": 13,
   "id": "48565278",
   "metadata": {},
   "outputs": [
    {
     "name": "stdout",
     "output_type": "stream",
     "text": [
      "[('sandwich', 93),\n",
      " ('coffee_shop', 91),\n",
      " ('american', 74),\n",
      " ('pizza', 55),\n",
      " ('burger', 49),\n",
      " ('mexican', 42),\n",
      " ('chinese', 35),\n",
      " ('italian', 34),\n",
      " ('donut;coffee_shop', 31),\n",
      " ('asian', 13)]\n"
     ]
    }
   ],
   "source": [
    "# Top 20 cuisines in Chicago\n",
    "query=\"select value,count(*) as num from (select key,value from nodes_tags UNION ALL select key,value from ways_tags) as u where u.key like '%cuisine%' group by value order by num desc limit 10;\"\n",
    "cur.execute(query)\n",
    "rows=cur.fetchall()\n",
    "\n",
    "pprint.pprint(rows)"
   ]
  },
  {
   "cell_type": "markdown",
   "id": "4ccb90e8",
   "metadata": {},
   "source": [
    "**Top 15 Chicago Websites**"
   ]
  },
  {
   "cell_type": "code",
   "execution_count": 14,
   "id": "15f61444",
   "metadata": {},
   "outputs": [
    {
     "name": "stdout",
     "output_type": "stream",
     "text": [
      "[('http://www.railwayoperationsimulator.com/wp-content/uploads/2012/01/Chicago-Union-Station.jpg',\n",
      "  29),\n",
      " ('http://www.cityofchicago.org/city/en/depts/cdot/provdrs/ped/svcs/pedway.html',\n",
      "  16),\n",
      " ('http://www.navypierflyover.com/', 10),\n",
      " ('http://www.mcdonalds.com/', 9),\n",
      " ('https://www.peets.com/', 6),\n",
      " ('https://www.cornerbakerycafe.com/', 6),\n",
      " ('https://www.transitchicago.com/fares/where-to-buy/', 5),\n",
      " ('http://www.pret.com/www.pret.com/en-us/', 5),\n",
      " ('TIGER/Line® 2008 Place Shapefiles (http://www.census.gov/geo/www/tiger/)',\n",
      "  5),\n",
      " ('https://www.lappetito.com/', 4),\n",
      " ('https://www.hannahsbretzel.com/', 4),\n",
      " ('https://www.argotea.com/', 4),\n",
      " ('http://www.cafecitochicago.com/', 4),\n",
      " ('https://www.stansdonuts.com/', 3),\n",
      " ('https://www.ramensan.com/', 3)]\n"
     ]
    }
   ],
   "source": [
    "# Top 15 website links in Chicago\n",
    "\n",
    "query = \"select u.value, count(*) as num from (select value from nodes_tags UNION ALL select value from ways_tags) as u WHERE value LIKE '%www.%' group by u.value order by num desc limit 15;\"\n",
    "cur.execute(query)\n",
    "rows=cur.fetchall()\n",
    "\n",
    "pprint.pprint(rows)"
   ]
  },
  {
   "cell_type": "markdown",
   "id": "4f5c510a",
   "metadata": {},
   "source": [
    "**List of amenities Chicago has to offer**"
   ]
  },
  {
   "cell_type": "code",
   "execution_count": 16,
   "id": "13801108",
   "metadata": {},
   "outputs": [
    {
     "name": "stdout",
     "output_type": "stream",
     "text": [
      "[('restaurant', 745),\n",
      " ('bench', 288),\n",
      " ('cafe', 262),\n",
      " ('bar', 246),\n",
      " ('fast_food', 239),\n",
      " ('bicycle_rental', 187),\n",
      " ('parking_entrance', 93),\n",
      " ('bank', 63),\n",
      " ('bicycle_parking', 59),\n",
      " ('drinking_water', 52)]\n"
     ]
    }
   ],
   "source": [
    "# Amenities\n",
    "\n",
    "query=\"select value, count(*) as num from nodes_tags where key='amenity' group by value order by num desc limit 10;\"\n",
    "cur.execute(query)\n",
    "rows=cur.fetchall()\n",
    "\n",
    "pprint.pprint(rows)"
   ]
  },
  {
   "cell_type": "markdown",
   "id": "92a45cf2",
   "metadata": {},
   "source": [
    "### Jewel - Osco\n",
    "\n",
    "I normally shop at Jewel-Osco, a popular grocery store in Chicago.  I am curious to see how many Jewel-Osco stores are there within the area of Chicago I extracted in openstreetmap."
   ]
  },
  {
   "cell_type": "code",
   "execution_count": 17,
   "id": "43d13b01",
   "metadata": {},
   "outputs": [
    {
     "name": "stdout",
     "output_type": "stream",
     "text": [
      "[('Jewel-Osco', 14)]\n"
     ]
    }
   ],
   "source": [
    "# How many Jewel-Osco are there\n",
    "query = \"select u.value, count(*) as num from (select value from nodes_tags UNION ALL select value from ways_tags) as u WHERE value like 'Jewel-Osco%' group by u.value order by num desc;\"\n",
    "cur.execute(query)\n",
    "rows=cur.fetchall()\n",
    "\n",
    "pprint.pprint(rows)"
   ]
  },
  {
   "cell_type": "markdown",
   "id": "e3e87eb0",
   "metadata": {},
   "source": [
    "### Museums\n",
    "```I like to list the different museums in Chicago that makes Chicago one of the best cities to live in around the world.  Chicago has some of the best museums to offer such as the Field museum and The Museum of Science in Industry.```"
   ]
  },
  {
   "cell_type": "code",
   "execution_count": 18,
   "id": "83568d5d",
   "metadata": {},
   "outputs": [
    {
     "name": "stdout",
     "output_type": "stream",
     "text": [
      "[('museum', 25),\n",
      " ('Museum Campus/11th Street', 5),\n",
      " ('Field Museum', 4),\n",
      " ('South Museum Campus Drive', 2),\n",
      " ('Museum Park Tower 1', 2),\n",
      " ('Chicago History Museum', 2),\n",
      " ('https://www.fieldmuseum.org/', 1),\n",
      " ('https://www.chicagochildrensmuseum.org/', 1),\n",
      " ('https://www.ccamuseum.org/', 1),\n",
      " ('https://www.21cmuseumhotels.com/chicago', 1)]\n"
     ]
    }
   ],
   "source": [
    "query = \"select u.value, count(*) as num from (select value from nodes_tags UNION ALL select value from ways_tags) as u WHERE value like '%museum%' and value not like 'en%' and value not like 'http++' group by u.value order by num desc limit 10;\"\n",
    "cur.execute(query)\n",
    "rows=cur.fetchall()\n",
    "\n",
    "pprint.pprint(rows)"
   ]
  },
  {
   "cell_type": "markdown",
   "id": "b2bcb5c6",
   "metadata": {},
   "source": [
    "**Religion in Chicago and Christian Denomination**"
   ]
  },
  {
   "cell_type": "code",
   "execution_count": 19,
   "id": "581f70c3",
   "metadata": {},
   "outputs": [
    {
     "name": "stdout",
     "output_type": "stream",
     "text": [
      "[('christian', 91),\n",
      " ('jewish', 4),\n",
      " ('buddhist', 3),\n",
      " ('muslim', 2),\n",
      " ('ascended_master_teachings', 1)]\n"
     ]
    }
   ],
   "source": [
    "# Religion\n",
    "query=\"select value, count(*) as num from (select key,value from nodes_tags UNION ALL select key,value from ways_tags) where key='religion' group by value order by num desc;\"\n",
    "cur.execute(query)\n",
    "rows=cur.fetchall()\n",
    "\n",
    "pprint.pprint(rows)"
   ]
  },
  {
   "cell_type": "code",
   "execution_count": 20,
   "id": "94375f6b",
   "metadata": {},
   "outputs": [
    {
     "name": "stdout",
     "output_type": "stream",
     "text": [
      "[('roman_catholic', 14),\n",
      " ('presbyterian', 4),\n",
      " ('lutheran', 4),\n",
      " ('baptist', 4),\n",
      " ('methodist', 3),\n",
      " ('catholic', 3),\n",
      " ('anglican', 3),\n",
      " ('african_methodist_episcopal', 3),\n",
      " ('apostolic', 2),\n",
      " ('pentecostal', 1),\n",
      " ('orthodox', 1),\n",
      " ('jehovahs_witness', 1),\n",
      " ('evangelical', 1),\n",
      " ('christian science', 1),\n",
      " ('Church of God', 1),\n",
      " ('Baptist', 1)]\n"
     ]
    }
   ],
   "source": [
    "# Christian Denomination\n",
    "query=\"SELECT b.value, COUNT(*) as num FROM ways_tags JOIN (SELECT DISTINCT(id) FROM ways_tags WHERE value='place_of_worship') a ON ways_tags.id=a.id JOIN (SELECT DISTINCT(id), value FROM ways_tags WHERE key = 'denomination') b ON a.id = b.id WHERE ways_tags.key='religion' AND ways_tags.value = 'christian' GROUP BY b.value ORDER BY num DESC;\"\n",
    "cur.execute(query)\n",
    "rows=cur.fetchall()\n",
    "\n",
    "pprint.pprint(rows)"
   ]
  },
  {
   "cell_type": "markdown",
   "id": "39c25d1a",
   "metadata": {},
   "source": [
    "### Areas for future Data Improvement"
   ]
  },
  {
   "cell_type": "code",
   "execution_count": 21,
   "id": "31b127d2",
   "metadata": {},
   "outputs": [
    {
     "name": "stdout",
     "output_type": "stream",
     "text": [
      "[('+1-312-372-0072',),\n",
      " ('+1 (312) 588-0064',),\n",
      " ('+1-312-236-1777',),\n",
      " ('+1-312-266-1616',),\n",
      " ('+1-312-222-1525',)]\n"
     ]
    }
   ],
   "source": [
    "query=\"SELECT value FROM (SELECT key,value FROM nodes_tags UNION ALL SELECT key,value FROM ways_tags) WHERE key='phone' LIMIT 5;\"\n",
    "cur.execute(query)\n",
    "rows=cur.fetchall()\n",
    "\n",
    "pprint.pprint(rows)"
   ]
  },
  {
   "cell_type": "markdown",
   "id": "a2aeaddf",
   "metadata": {},
   "source": [
    "The code for cleaning the phone numbers from the dataset was successful.  It successfully changed \"/\" (forward slash) to dashes. However, the issue is that so many phone numbers do not have the correct format. </br>\n",
    " \n",
    "```+1-312-372-0072, +1-312-427-3170, (312) 920-9100, (312)-1116, 888-642-6674, +13122650580, +1 (312) 475-1390, 7732482570, 8 800 775-52-93, 8889496289, 312-642-3000, 800 DL MOODY```"
   ]
  },
  {
   "cell_type": "markdown",
   "id": "aebfc250",
   "metadata": {},
   "source": [
    "### Benefits \n",
    "\n",
    "The Benefits of improving the phone numbers dataset would not just look clean and conform to standards, but by following the international standards for phone numbers, any developers or users extracting these phone data can leverage them on auto-dialing programs and others.   \n",
    "\n",
    "### Anticipated Issue\n",
    "\n",
    "There are a few variations of phone numbers, and it might be challenging to catch all of these variations and be able to 100% clean this data.\n"
   ]
  },
  {
   "cell_type": "markdown",
   "id": "eacde8e1",
   "metadata": {},
   "source": [
    "## Conclusion\n",
    "\n",
    "As mentioned, I only took a smaller section of Chicago from OpenStreetMap, and expanding the extract would add more challenges to cleaning these data. While auditing the street type, I only found a few issues with them, which means that the community is constantly improved. Setting up standards and hoping the user community follows them can only help this project's long-term goal of creating a geographic map of the world."
   ]
  }
 ],
 "metadata": {
  "kernelspec": {
   "display_name": "Python 3 (ipykernel)",
   "language": "python",
   "name": "python3"
  },
  "language_info": {
   "codemirror_mode": {
    "name": "ipython",
    "version": 3
   },
   "file_extension": ".py",
   "mimetype": "text/x-python",
   "name": "python",
   "nbconvert_exporter": "python",
   "pygments_lexer": "ipython3",
   "version": "3.8.12"
  }
 },
 "nbformat": 4,
 "nbformat_minor": 5
}
